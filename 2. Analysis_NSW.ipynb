{
 "cells": [
  {
   "cell_type": "markdown",
   "id": "75816e33",
   "metadata": {},
   "source": [
    "# Analysis of NSW data across localities and time"
   ]
  },
  {
   "cell_type": "code",
   "execution_count": 4,
   "id": "50dbe636",
   "metadata": {},
   "outputs": [],
   "source": [
    "import pandas as pd\n",
    "import numpy as np\n",
    "\n",
    "df = pd.read_csv('market_trends_NSW.csv')"
   ]
  },
  {
   "cell_type": "markdown",
   "id": "0b4dccbe",
   "metadata": {},
   "source": [
    "[time to do some analysis]"
   ]
  }
 ],
 "metadata": {
  "kernelspec": {
   "display_name": ".venv",
   "language": "python",
   "name": "python3"
  },
  "language_info": {
   "codemirror_mode": {
    "name": "ipython",
    "version": 3
   },
   "file_extension": ".py",
   "mimetype": "text/x-python",
   "name": "python",
   "nbconvert_exporter": "python",
   "pygments_lexer": "ipython3",
   "version": "3.12.10"
  }
 },
 "nbformat": 4,
 "nbformat_minor": 5
}
